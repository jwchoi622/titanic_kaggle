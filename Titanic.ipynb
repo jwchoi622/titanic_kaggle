{
  "nbformat": 4,
  "nbformat_minor": 0,
  "metadata": {
    "kernelspec": {
      "display_name": "Python 3",
      "language": "python",
      "name": "python3"
    },
    "language_info": {
      "codemirror_mode": {
        "name": "ipython",
        "version": 3
      },
      "file_extension": ".py",
      "mimetype": "text/x-python",
      "name": "python",
      "nbconvert_exporter": "python",
      "pygments_lexer": "ipython3",
      "version": "3.6.3"
    },
    "colab": {
      "provenance": []
    }
  },
  "cells": [
    {
      "cell_type": "markdown",
      "metadata": {
        "id": "_tTHlJ6iM8cJ"
      },
      "source": [
        "# Titanic: Machine Learning from Disaster\n",
        "\n",
        "The sinking of the RMS Titanic is one of the most infamous shipwrecks in history.  On April 15, 1912, during her maiden voyage, the Titanic sank after colliding with an iceberg, killing 1502 out of 2224 passengers and crew. This sensational tragedy shocked the international community and led to better safety regulations for ships.\n",
        "\n",
        "One of the reasons that the shipwreck led to such loss of life was that there were not enough lifeboats for the passengers and crew. Although there was some element of luck involved in surviving the sinking, some groups of people were more likely to survive than others, such as women, children, and the upper-class.\n",
        "\n"
      ]
    },
    {
      "cell_type": "markdown",
      "metadata": {
        "id": "xm7UyiblM8cM"
      },
      "source": [
        "## Goal\n",
        "\n",
        "In this assignment, you will be asked to find insights from the data by using **pandas** to analyze and manipulate the data and **matplotlib** and **seaborn** for data visualization. You will get a bonus point if you can apply a logistic regression model to predict which passengers are more likely to survive in a separate test set. "
      ]
    },
    {
      "cell_type": "code",
      "metadata": {
        "id": "JSB1D5caM8cN"
      },
      "source": [
        "# importing libraries\n",
        "import os\n",
        "import io\n",
        "import warnings\n",
        "\n",
        "import numpy as np\n",
        "import scipy as sp\n",
        "import pandas as pd\n",
        "import sklearn as sk\n",
        "\n",
        "import matplotlib as mpl\n",
        "import matplotlib.pyplot as plt\n",
        "%matplotlib inline\n",
        "import seaborn as sns\n",
        "sns.set()\n",
        "\n",
        "warnings.simplefilter(action='ignore', category=FutureWarning)"
      ],
      "execution_count": null,
      "outputs": []
    },
    {
      "cell_type": "code",
      "metadata": {
        "id": "iVLifp0IM8cQ",
        "colab": {
          "base_uri": "https://localhost:8080/",
          "height": 238
        },
        "outputId": "aec3caf5-c708-496e-eb65-6aa097179568"
      },
      "source": [
        "# load data\n",
        "titanic = pd.read_csv('https://raw.githubusercontent.com/zariable/data/master/titanic_train.csv')\n",
        "display(titanic.head())"
      ],
      "execution_count": null,
      "outputs": [
        {
          "output_type": "display_data",
          "data": {
            "text/html": [
              "<div>\n",
              "<style scoped>\n",
              "    .dataframe tbody tr th:only-of-type {\n",
              "        vertical-align: middle;\n",
              "    }\n",
              "\n",
              "    .dataframe tbody tr th {\n",
              "        vertical-align: top;\n",
              "    }\n",
              "\n",
              "    .dataframe thead th {\n",
              "        text-align: right;\n",
              "    }\n",
              "</style>\n",
              "<table border=\"1\" class=\"dataframe\">\n",
              "  <thead>\n",
              "    <tr style=\"text-align: right;\">\n",
              "      <th></th>\n",
              "      <th>PassengerId</th>\n",
              "      <th>Survived</th>\n",
              "      <th>Pclass</th>\n",
              "      <th>Name</th>\n",
              "      <th>Sex</th>\n",
              "      <th>Age</th>\n",
              "      <th>SibSp</th>\n",
              "      <th>Parch</th>\n",
              "      <th>Ticket</th>\n",
              "      <th>Fare</th>\n",
              "      <th>Cabin</th>\n",
              "      <th>Embarked</th>\n",
              "    </tr>\n",
              "  </thead>\n",
              "  <tbody>\n",
              "    <tr>\n",
              "      <th>0</th>\n",
              "      <td>1</td>\n",
              "      <td>0</td>\n",
              "      <td>3</td>\n",
              "      <td>Braund, Mr. Owen Harris</td>\n",
              "      <td>male</td>\n",
              "      <td>22.0</td>\n",
              "      <td>1</td>\n",
              "      <td>0</td>\n",
              "      <td>A/5 21171</td>\n",
              "      <td>7.2500</td>\n",
              "      <td>NaN</td>\n",
              "      <td>S</td>\n",
              "    </tr>\n",
              "    <tr>\n",
              "      <th>1</th>\n",
              "      <td>2</td>\n",
              "      <td>1</td>\n",
              "      <td>1</td>\n",
              "      <td>Cumings, Mrs. John Bradley (Florence Briggs Th...</td>\n",
              "      <td>female</td>\n",
              "      <td>38.0</td>\n",
              "      <td>1</td>\n",
              "      <td>0</td>\n",
              "      <td>PC 17599</td>\n",
              "      <td>71.2833</td>\n",
              "      <td>C85</td>\n",
              "      <td>C</td>\n",
              "    </tr>\n",
              "    <tr>\n",
              "      <th>2</th>\n",
              "      <td>3</td>\n",
              "      <td>1</td>\n",
              "      <td>3</td>\n",
              "      <td>Heikkinen, Miss. Laina</td>\n",
              "      <td>female</td>\n",
              "      <td>26.0</td>\n",
              "      <td>0</td>\n",
              "      <td>0</td>\n",
              "      <td>STON/O2. 3101282</td>\n",
              "      <td>7.9250</td>\n",
              "      <td>NaN</td>\n",
              "      <td>S</td>\n",
              "    </tr>\n",
              "    <tr>\n",
              "      <th>3</th>\n",
              "      <td>4</td>\n",
              "      <td>1</td>\n",
              "      <td>1</td>\n",
              "      <td>Futrelle, Mrs. Jacques Heath (Lily May Peel)</td>\n",
              "      <td>female</td>\n",
              "      <td>35.0</td>\n",
              "      <td>1</td>\n",
              "      <td>0</td>\n",
              "      <td>113803</td>\n",
              "      <td>53.1000</td>\n",
              "      <td>C123</td>\n",
              "      <td>S</td>\n",
              "    </tr>\n",
              "    <tr>\n",
              "      <th>4</th>\n",
              "      <td>5</td>\n",
              "      <td>0</td>\n",
              "      <td>3</td>\n",
              "      <td>Allen, Mr. William Henry</td>\n",
              "      <td>male</td>\n",
              "      <td>35.0</td>\n",
              "      <td>0</td>\n",
              "      <td>0</td>\n",
              "      <td>373450</td>\n",
              "      <td>8.0500</td>\n",
              "      <td>NaN</td>\n",
              "      <td>S</td>\n",
              "    </tr>\n",
              "  </tbody>\n",
              "</table>\n",
              "</div>"
            ],
            "text/plain": [
              "   PassengerId  Survived  Pclass  ...     Fare Cabin  Embarked\n",
              "0            1         0       3  ...   7.2500   NaN         S\n",
              "1            2         1       1  ...  71.2833   C85         C\n",
              "2            3         1       3  ...   7.9250   NaN         S\n",
              "3            4         1       1  ...  53.1000  C123         S\n",
              "4            5         0       3  ...   8.0500   NaN         S\n",
              "\n",
              "[5 rows x 12 columns]"
            ]
          },
          "metadata": {
            "tags": []
          }
        }
      ]
    },
    {
      "cell_type": "markdown",
      "metadata": {
        "id": "vXplTCIeM8cT"
      },
      "source": [
        "## Description of the data set\n",
        "Here's a brief description of each column in the data.\n",
        "\n",
        "- PassengerID: A column added by Kaggle to identify each row and make submissions easier\n",
        "- Survived: Whether the passenger survived or not and the value we are predicting (0=No, 1=Yes)\n",
        "- Pclass: The class of the ticket the passenger purchased (1=1st, 2=2nd, 3=3rd)\n",
        "- Sex: The passenger's sex\n",
        "- Age: The passenger's age in years\n",
        "- SibSp: The number of siblings or spouses the passenger had aboard the Titanic\n",
        "- Parch: The number of parents or children the passenger had aboard the Titanic\n",
        "- Ticket: The passenger's ticket number\n",
        "- Fare: The fare the passenger paid\n",
        "- Cabin: The passenger's cabin number\n",
        "- Embarked: The port where the passenger embarked (C=Cherbourg, Q=Queenstown, S=Southampton)"
      ]
    },
    {
      "cell_type": "code",
      "metadata": {
        "id": "hdmTDZGYM8cT",
        "colab": {
          "base_uri": "https://localhost:8080/",
          "height": 390
        },
        "outputId": "4ca34fc5-20ba-4578-9e0c-fc8519a32058"
      },
      "source": [
        "titanic.describe(include='all')"
      ],
      "execution_count": null,
      "outputs": [
        {
          "output_type": "execute_result",
          "data": {
            "text/html": [
              "<div>\n",
              "<style scoped>\n",
              "    .dataframe tbody tr th:only-of-type {\n",
              "        vertical-align: middle;\n",
              "    }\n",
              "\n",
              "    .dataframe tbody tr th {\n",
              "        vertical-align: top;\n",
              "    }\n",
              "\n",
              "    .dataframe thead th {\n",
              "        text-align: right;\n",
              "    }\n",
              "</style>\n",
              "<table border=\"1\" class=\"dataframe\">\n",
              "  <thead>\n",
              "    <tr style=\"text-align: right;\">\n",
              "      <th></th>\n",
              "      <th>PassengerId</th>\n",
              "      <th>Survived</th>\n",
              "      <th>Pclass</th>\n",
              "      <th>Name</th>\n",
              "      <th>Sex</th>\n",
              "      <th>Age</th>\n",
              "      <th>SibSp</th>\n",
              "      <th>Parch</th>\n",
              "      <th>Ticket</th>\n",
              "      <th>Fare</th>\n",
              "      <th>Cabin</th>\n",
              "      <th>Embarked</th>\n",
              "    </tr>\n",
              "  </thead>\n",
              "  <tbody>\n",
              "    <tr>\n",
              "      <th>count</th>\n",
              "      <td>891.000000</td>\n",
              "      <td>891.000000</td>\n",
              "      <td>891.000000</td>\n",
              "      <td>891</td>\n",
              "      <td>891</td>\n",
              "      <td>714.000000</td>\n",
              "      <td>891.000000</td>\n",
              "      <td>891.000000</td>\n",
              "      <td>891</td>\n",
              "      <td>891.000000</td>\n",
              "      <td>204</td>\n",
              "      <td>889</td>\n",
              "    </tr>\n",
              "    <tr>\n",
              "      <th>unique</th>\n",
              "      <td>NaN</td>\n",
              "      <td>NaN</td>\n",
              "      <td>NaN</td>\n",
              "      <td>891</td>\n",
              "      <td>2</td>\n",
              "      <td>NaN</td>\n",
              "      <td>NaN</td>\n",
              "      <td>NaN</td>\n",
              "      <td>681</td>\n",
              "      <td>NaN</td>\n",
              "      <td>147</td>\n",
              "      <td>3</td>\n",
              "    </tr>\n",
              "    <tr>\n",
              "      <th>top</th>\n",
              "      <td>NaN</td>\n",
              "      <td>NaN</td>\n",
              "      <td>NaN</td>\n",
              "      <td>Meo, Mr. Alfonzo</td>\n",
              "      <td>male</td>\n",
              "      <td>NaN</td>\n",
              "      <td>NaN</td>\n",
              "      <td>NaN</td>\n",
              "      <td>CA. 2343</td>\n",
              "      <td>NaN</td>\n",
              "      <td>C23 C25 C27</td>\n",
              "      <td>S</td>\n",
              "    </tr>\n",
              "    <tr>\n",
              "      <th>freq</th>\n",
              "      <td>NaN</td>\n",
              "      <td>NaN</td>\n",
              "      <td>NaN</td>\n",
              "      <td>1</td>\n",
              "      <td>577</td>\n",
              "      <td>NaN</td>\n",
              "      <td>NaN</td>\n",
              "      <td>NaN</td>\n",
              "      <td>7</td>\n",
              "      <td>NaN</td>\n",
              "      <td>4</td>\n",
              "      <td>644</td>\n",
              "    </tr>\n",
              "    <tr>\n",
              "      <th>mean</th>\n",
              "      <td>446.000000</td>\n",
              "      <td>0.383838</td>\n",
              "      <td>2.308642</td>\n",
              "      <td>NaN</td>\n",
              "      <td>NaN</td>\n",
              "      <td>29.699118</td>\n",
              "      <td>0.523008</td>\n",
              "      <td>0.381594</td>\n",
              "      <td>NaN</td>\n",
              "      <td>32.204208</td>\n",
              "      <td>NaN</td>\n",
              "      <td>NaN</td>\n",
              "    </tr>\n",
              "    <tr>\n",
              "      <th>std</th>\n",
              "      <td>257.353842</td>\n",
              "      <td>0.486592</td>\n",
              "      <td>0.836071</td>\n",
              "      <td>NaN</td>\n",
              "      <td>NaN</td>\n",
              "      <td>14.526497</td>\n",
              "      <td>1.102743</td>\n",
              "      <td>0.806057</td>\n",
              "      <td>NaN</td>\n",
              "      <td>49.693429</td>\n",
              "      <td>NaN</td>\n",
              "      <td>NaN</td>\n",
              "    </tr>\n",
              "    <tr>\n",
              "      <th>min</th>\n",
              "      <td>1.000000</td>\n",
              "      <td>0.000000</td>\n",
              "      <td>1.000000</td>\n",
              "      <td>NaN</td>\n",
              "      <td>NaN</td>\n",
              "      <td>0.420000</td>\n",
              "      <td>0.000000</td>\n",
              "      <td>0.000000</td>\n",
              "      <td>NaN</td>\n",
              "      <td>0.000000</td>\n",
              "      <td>NaN</td>\n",
              "      <td>NaN</td>\n",
              "    </tr>\n",
              "    <tr>\n",
              "      <th>25%</th>\n",
              "      <td>223.500000</td>\n",
              "      <td>0.000000</td>\n",
              "      <td>2.000000</td>\n",
              "      <td>NaN</td>\n",
              "      <td>NaN</td>\n",
              "      <td>20.125000</td>\n",
              "      <td>0.000000</td>\n",
              "      <td>0.000000</td>\n",
              "      <td>NaN</td>\n",
              "      <td>7.910400</td>\n",
              "      <td>NaN</td>\n",
              "      <td>NaN</td>\n",
              "    </tr>\n",
              "    <tr>\n",
              "      <th>50%</th>\n",
              "      <td>446.000000</td>\n",
              "      <td>0.000000</td>\n",
              "      <td>3.000000</td>\n",
              "      <td>NaN</td>\n",
              "      <td>NaN</td>\n",
              "      <td>28.000000</td>\n",
              "      <td>0.000000</td>\n",
              "      <td>0.000000</td>\n",
              "      <td>NaN</td>\n",
              "      <td>14.454200</td>\n",
              "      <td>NaN</td>\n",
              "      <td>NaN</td>\n",
              "    </tr>\n",
              "    <tr>\n",
              "      <th>75%</th>\n",
              "      <td>668.500000</td>\n",
              "      <td>1.000000</td>\n",
              "      <td>3.000000</td>\n",
              "      <td>NaN</td>\n",
              "      <td>NaN</td>\n",
              "      <td>38.000000</td>\n",
              "      <td>1.000000</td>\n",
              "      <td>0.000000</td>\n",
              "      <td>NaN</td>\n",
              "      <td>31.000000</td>\n",
              "      <td>NaN</td>\n",
              "      <td>NaN</td>\n",
              "    </tr>\n",
              "    <tr>\n",
              "      <th>max</th>\n",
              "      <td>891.000000</td>\n",
              "      <td>1.000000</td>\n",
              "      <td>3.000000</td>\n",
              "      <td>NaN</td>\n",
              "      <td>NaN</td>\n",
              "      <td>80.000000</td>\n",
              "      <td>8.000000</td>\n",
              "      <td>6.000000</td>\n",
              "      <td>NaN</td>\n",
              "      <td>512.329200</td>\n",
              "      <td>NaN</td>\n",
              "      <td>NaN</td>\n",
              "    </tr>\n",
              "  </tbody>\n",
              "</table>\n",
              "</div>"
            ],
            "text/plain": [
              "        PassengerId    Survived      Pclass  ...        Fare        Cabin  Embarked\n",
              "count    891.000000  891.000000  891.000000  ...  891.000000          204       889\n",
              "unique          NaN         NaN         NaN  ...         NaN          147         3\n",
              "top             NaN         NaN         NaN  ...         NaN  C23 C25 C27         S\n",
              "freq            NaN         NaN         NaN  ...         NaN            4       644\n",
              "mean     446.000000    0.383838    2.308642  ...   32.204208          NaN       NaN\n",
              "std      257.353842    0.486592    0.836071  ...   49.693429          NaN       NaN\n",
              "min        1.000000    0.000000    1.000000  ...    0.000000          NaN       NaN\n",
              "25%      223.500000    0.000000    2.000000  ...    7.910400          NaN       NaN\n",
              "50%      446.000000    0.000000    3.000000  ...   14.454200          NaN       NaN\n",
              "75%      668.500000    1.000000    3.000000  ...   31.000000          NaN       NaN\n",
              "max      891.000000    1.000000    3.000000  ...  512.329200          NaN       NaN\n",
              "\n",
              "[11 rows x 12 columns]"
            ]
          },
          "metadata": {
            "tags": []
          },
          "execution_count": 16
        }
      ]
    },
    {
      "cell_type": "markdown",
      "metadata": {
        "id": "zqrQG_NpM8cW"
      },
      "source": [
        "### **Question 1: Find the number of missing values for each column.**\n",
        "The first step in data analysis is to identify columns with missing data. Can you find the columns in this data with missing value as well as the number of records with missing value for each column?  \n",
        "\n",
        "Hint: you will need [isna](https://pandas.pydata.org/pandas-docs/stable/generated/pandas.DataFrame.isna.html) function."
      ]
    },
    {
      "cell_type": "code",
      "metadata": {
        "id": "q-yVQIkVM8cW",
        "colab": {
          "base_uri": "https://localhost:8080/"
        },
        "outputId": "f793036f-b394-4f21-d417-c18c9de1d173"
      },
      "source": [
        "# TODO\n",
        "titanic.isna()\n",
        "\n",
        "titanic.isna().sum(axis = 1)"
      ],
      "execution_count": null,
      "outputs": [
        {
          "output_type": "execute_result",
          "data": {
            "text/plain": [
              "0      1\n",
              "1      0\n",
              "2      1\n",
              "3      0\n",
              "4      1\n",
              "      ..\n",
              "886    1\n",
              "887    0\n",
              "888    2\n",
              "889    0\n",
              "890    1\n",
              "Length: 891, dtype: int64"
            ]
          },
          "metadata": {
            "tags": []
          },
          "execution_count": 17
        }
      ]
    },
    {
      "cell_type": "markdown",
      "metadata": {
        "id": "dyv7SbkjM8cY"
      },
      "source": [
        "### **Question 2: Impute missing values.**\n",
        "Now we've identified the following columns with missing values: _Age_, _Cabin_ and _Embarked_. As the next step, we want to impute those missing values. There are three ways to impute the missing values:\n",
        "- A constant value that has meaning within the domain.\n",
        "- The mean, median or mode value based on non-missing values of that column.\n",
        "- A random value drawn from other non-missing values of that column.\n",
        "\n",
        "Please write code to impute the missing values as follows:\n",
        "- the missing values of column _age_ with the mean of that column.\n",
        "- the missing values of column _Cabin_ with a constant value 'other'.\n",
        "- the missing values of column _Embarked_ with the [mode](https://pandas.pydata.org/pandas-docs/stable/generated/pandas.DataFrame.mode.html) of that column."
      ]
    },
    {
      "cell_type": "code",
      "metadata": {
        "id": "TfCy8py-M8cZ"
      },
      "source": [
        "# TODO\n",
        "# titanic['Embarked'].mode() gives us S \n",
        "titanic['Age'] = titanic['Age'].replace(np.nan, 29.699118)\n",
        "titanic['Cabin'] = titanic['Cabin'].replace(np.nan, 'other')\n",
        "titanic['Embarked'] = titanic['Embarked'].replace(np.nan, 'S')\n",
        "\n"
      ],
      "execution_count": null,
      "outputs": []
    },
    {
      "cell_type": "markdown",
      "metadata": {
        "id": "slueIatrM8cb"
      },
      "source": [
        "### **Question 3: What's the name of the person who has the 16th most expensive ticket?**"
      ]
    },
    {
      "cell_type": "code",
      "metadata": {
        "id": "U9TFxZAfM8cc",
        "colab": {
          "base_uri": "https://localhost:8080/"
        },
        "outputId": "7babfb2a-dd69-4a15-ff92-d1e86758b8be"
      },
      "source": [
        "# TODO\n",
        "new = titanic.sort_values(by='Fare', ascending=False)\n",
        "#16th row\n",
        "new.iloc[15]\n",
        "#Name is Mr. John Farthing\n"
      ],
      "execution_count": null,
      "outputs": [
        {
          "output_type": "execute_result",
          "data": {
            "text/plain": [
              "PassengerId                   528\n",
              "Survived                        0\n",
              "Pclass                          1\n",
              "Name           Farthing, Mr. John\n",
              "Sex                          male\n",
              "Age                       29.6991\n",
              "SibSp                           0\n",
              "Parch                           0\n",
              "Ticket                   PC 17483\n",
              "Fare                      221.779\n",
              "Cabin                         C95\n",
              "Embarked                        S\n",
              "Name: 527, dtype: object"
            ]
          },
          "metadata": {
            "tags": []
          },
          "execution_count": 19
        }
      ]
    },
    {
      "cell_type": "markdown",
      "metadata": {
        "id": "upj1tS2AM8ce"
      },
      "source": [
        "### **Question 4: Out of all the remales who survived, what's the name who has the 6th most expensive ticket?**"
      ]
    },
    {
      "cell_type": "code",
      "metadata": {
        "id": "tXywVrsoM8ce",
        "colab": {
          "base_uri": "https://localhost:8080/"
        },
        "outputId": "7778c488-5f3f-498c-87ea-01c39b73ef4e"
      },
      "source": [
        "# TODO\n",
        "titanic2 = titanic.loc[(titanic['Sex'] == 'female') & (titanic['Survived'] == 1)]\n",
        "sortedt2 = titanic2.sort_values(by='Fare', ascending=False)\n",
        "sortedt2.head()\n",
        "sortedt2.iloc[5]\n",
        "#Her name is Mrs. James (Helene DeLaudeniere Chaput) Baxter"
      ],
      "execution_count": null,
      "outputs": [
        {
          "output_type": "execute_result",
          "data": {
            "text/plain": [
              "PassengerId                                                300\n",
              "Survived                                                     1\n",
              "Pclass                                                       1\n",
              "Name           Baxter, Mrs. James (Helene DeLaudeniere Chaput)\n",
              "Sex                                                     female\n",
              "Age                                                         50\n",
              "SibSp                                                        0\n",
              "Parch                                                        1\n",
              "Ticket                                                PC 17558\n",
              "Fare                                                   247.521\n",
              "Cabin                                                  B58 B60\n",
              "Embarked                                                     C\n",
              "Name: 299, dtype: object"
            ]
          },
          "metadata": {
            "tags": []
          },
          "execution_count": 20
        }
      ]
    },
    {
      "cell_type": "markdown",
      "metadata": {
        "id": "oXaAaaY3M8cg"
      },
      "source": [
        "### **Question 5: Examine the survival rate**\n",
        "Calculate the survival rate for different gender and Pclass combination and use a couple of sentences to describe your findings. Hint: pivot_table is your friend."
      ]
    },
    {
      "cell_type": "code",
      "metadata": {
        "id": "GsBOqDRvM8ch",
        "colab": {
          "base_uri": "https://localhost:8080/",
          "height": 266
        },
        "outputId": "9186fb81-5186-4324-a1e3-c9732c1c1c33"
      },
      "source": [
        "# TODO\n",
        "pd.pivot_table(titanic, index=[\"Sex\", \"Pclass\"])\n",
        "\n",
        "#Findings:\n",
        "#Females are much more likely to have survived than males. \n",
        "#In females, the highest jump in survival rate is from 3rd to 2nd class.\n",
        "#In males, the highest jump in survival rate is from 2nd to 1st class. \n",
        "#Age goes up as class goes up in both genders. \n",
        "\n"
      ],
      "execution_count": null,
      "outputs": [
        {
          "output_type": "execute_result",
          "data": {
            "text/html": [
              "<div>\n",
              "<style scoped>\n",
              "    .dataframe tbody tr th:only-of-type {\n",
              "        vertical-align: middle;\n",
              "    }\n",
              "\n",
              "    .dataframe tbody tr th {\n",
              "        vertical-align: top;\n",
              "    }\n",
              "\n",
              "    .dataframe thead th {\n",
              "        text-align: right;\n",
              "    }\n",
              "</style>\n",
              "<table border=\"1\" class=\"dataframe\">\n",
              "  <thead>\n",
              "    <tr style=\"text-align: right;\">\n",
              "      <th></th>\n",
              "      <th></th>\n",
              "      <th>Age</th>\n",
              "      <th>Fare</th>\n",
              "      <th>Parch</th>\n",
              "      <th>PassengerId</th>\n",
              "      <th>SibSp</th>\n",
              "      <th>Survived</th>\n",
              "    </tr>\n",
              "    <tr>\n",
              "      <th>Sex</th>\n",
              "      <th>Pclass</th>\n",
              "      <th></th>\n",
              "      <th></th>\n",
              "      <th></th>\n",
              "      <th></th>\n",
              "      <th></th>\n",
              "      <th></th>\n",
              "    </tr>\n",
              "  </thead>\n",
              "  <tbody>\n",
              "    <tr>\n",
              "      <th rowspan=\"3\" valign=\"top\">female</th>\n",
              "      <th>1</th>\n",
              "      <td>34.141405</td>\n",
              "      <td>106.125798</td>\n",
              "      <td>0.457447</td>\n",
              "      <td>469.212766</td>\n",
              "      <td>0.553191</td>\n",
              "      <td>0.968085</td>\n",
              "    </tr>\n",
              "    <tr>\n",
              "      <th>2</th>\n",
              "      <td>28.748661</td>\n",
              "      <td>21.970121</td>\n",
              "      <td>0.605263</td>\n",
              "      <td>443.105263</td>\n",
              "      <td>0.486842</td>\n",
              "      <td>0.921053</td>\n",
              "    </tr>\n",
              "    <tr>\n",
              "      <th>3</th>\n",
              "      <td>24.068493</td>\n",
              "      <td>16.118810</td>\n",
              "      <td>0.798611</td>\n",
              "      <td>399.729167</td>\n",
              "      <td>0.895833</td>\n",
              "      <td>0.500000</td>\n",
              "    </tr>\n",
              "    <tr>\n",
              "      <th rowspan=\"3\" valign=\"top\">male</th>\n",
              "      <th>1</th>\n",
              "      <td>39.287717</td>\n",
              "      <td>67.226127</td>\n",
              "      <td>0.278689</td>\n",
              "      <td>455.729508</td>\n",
              "      <td>0.311475</td>\n",
              "      <td>0.368852</td>\n",
              "    </tr>\n",
              "    <tr>\n",
              "      <th>2</th>\n",
              "      <td>30.653908</td>\n",
              "      <td>19.741782</td>\n",
              "      <td>0.222222</td>\n",
              "      <td>447.962963</td>\n",
              "      <td>0.342593</td>\n",
              "      <td>0.157407</td>\n",
              "    </tr>\n",
              "    <tr>\n",
              "      <th>3</th>\n",
              "      <td>27.372153</td>\n",
              "      <td>12.661633</td>\n",
              "      <td>0.224784</td>\n",
              "      <td>455.515850</td>\n",
              "      <td>0.498559</td>\n",
              "      <td>0.135447</td>\n",
              "    </tr>\n",
              "  </tbody>\n",
              "</table>\n",
              "</div>"
            ],
            "text/plain": [
              "                     Age        Fare     Parch  PassengerId     SibSp  Survived\n",
              "Sex    Pclass                                                                  \n",
              "female 1       34.141405  106.125798  0.457447   469.212766  0.553191  0.968085\n",
              "       2       28.748661   21.970121  0.605263   443.105263  0.486842  0.921053\n",
              "       3       24.068493   16.118810  0.798611   399.729167  0.895833  0.500000\n",
              "male   1       39.287717   67.226127  0.278689   455.729508  0.311475  0.368852\n",
              "       2       30.653908   19.741782  0.222222   447.962963  0.342593  0.157407\n",
              "       3       27.372153   12.661633  0.224784   455.515850  0.498559  0.135447"
            ]
          },
          "metadata": {
            "tags": []
          },
          "execution_count": 21
        }
      ]
    },
    {
      "cell_type": "markdown",
      "metadata": {
        "id": "Jl8IY-XjM8cj"
      },
      "source": [
        "### **Question 6: Is Age or Fare an important factor to one's chance of survival?**\n",
        "Visualize the distribution of Column _Age_ for both survived and non-survived population and write down your findings based on the visualization."
      ]
    },
    {
      "cell_type": "code",
      "metadata": {
        "id": "yica7x96M8ck",
        "colab": {
          "base_uri": "https://localhost:8080/",
          "height": 781
        },
        "outputId": "8e113ee4-610a-4539-b360-36bb223b7c73"
      },
      "source": [
        "def distplot(feature, frame):\n",
        "    plt.figure(figsize=(8,3))\n",
        "    plt.title(\"Distribution for {}\".format(feature))\n",
        "    ax0 = sns.distplot(frame[frame['Survived'] == 0][feature], color= 'b', label='Survived: No')\n",
        "    ax1 = sns.distplot(frame[frame['Survived'] == 1][feature], color= 'g', label='Survived: Yes')\n",
        "    plt.legend()\n",
        "    plt.show()\n",
        "\n",
        "numerical_cols = ['Age', 'Fare']\n",
        "\n",
        "display(titanic['Age'].describe())\n",
        "distplot('Age', titanic)\n",
        "#For age, you had the least chance of surviving if you were middle aged (around 30 years old).\n",
        "#Infants look like they had a the best chance of surviving. \n",
        "#Next are people younger than 20 or older than 40.\n",
        "\n",
        "display(titanic['Fare'].describe())\n",
        "distplot('Fare', titanic)\n",
        "#For fare, definitely the cheaper fares had a worse chance in surviving. \n",
        "\n"
      ],
      "execution_count": null,
      "outputs": [
        {
          "output_type": "display_data",
          "data": {
            "text/plain": [
              "count    891.000000\n",
              "mean      29.699118\n",
              "std       13.002015\n",
              "min        0.420000\n",
              "25%       22.000000\n",
              "50%       29.699118\n",
              "75%       35.000000\n",
              "max       80.000000\n",
              "Name: Age, dtype: float64"
            ]
          },
          "metadata": {
            "tags": []
          }
        },
        {
          "output_type": "display_data",
          "data": {
            "image/png": "[encoded data removed]",
            "text/plain": [
              "<Figure size 576x216 with 1 Axes>"
            ]
          },
          "metadata": {
            "tags": []
          }
        },
        {
          "output_type": "display_data",
          "data": {
            "text/plain": [
              "count    891.000000\n",
              "mean      32.204208\n",
              "std       49.693429\n",
              "min        0.000000\n",
              "25%        7.910400\n",
              "50%       14.454200\n",
              "75%       31.000000\n",
              "max      512.329200\n",
              "Name: Fare, dtype: float64"
            ]
          },
          "metadata": {
            "tags": []
          }
        },
        {
          "output_type": "display_data",
          "data": {
            "image/png": "[encoded data removed]",
            "text/plain": [
              "<Figure size 576x216 with 1 Axes>"
            ]
          },
          "metadata": {
            "tags": []
          }
        }
      ]
    },
    {
      "cell_type": "markdown",
      "metadata": {
        "id": "DiigUZriM8cl"
      },
      "source": [
        "### **Question 7: Calculate and visualize the survival rate for discrete columns**\n",
        "- Calculate the survival rate for column _SibSp_ and _Parch_.\n",
        "- Use sns.barplot to visualize the survival rate for column _SibSp_ and _Parch_."
      ]
    },
    {
      "cell_type": "code",
      "metadata": {
        "id": "DqHs4imSM8cm",
        "colab": {
          "base_uri": "https://localhost:8080/",
          "height": 297
        },
        "outputId": "3152309e-c941-4ee3-c25d-cf9303257760"
      },
      "source": [
        "# TODO\n",
        "#Survival rate for SibSp\n",
        "pd.pivot_table(titanic, index=[\"SibSp\"])\n"
      ],
      "execution_count": null,
      "outputs": [
        {
          "output_type": "execute_result",
          "data": {
            "text/html": [
              "<div>\n",
              "<style scoped>\n",
              "    .dataframe tbody tr th:only-of-type {\n",
              "        vertical-align: middle;\n",
              "    }\n",
              "\n",
              "    .dataframe tbody tr th {\n",
              "        vertical-align: top;\n",
              "    }\n",
              "\n",
              "    .dataframe thead th {\n",
              "        text-align: right;\n",
              "    }\n",
              "</style>\n",
              "<table border=\"1\" class=\"dataframe\">\n",
              "  <thead>\n",
              "    <tr style=\"text-align: right;\">\n",
              "      <th></th>\n",
              "      <th>Age</th>\n",
              "      <th>Fare</th>\n",
              "      <th>Parch</th>\n",
              "      <th>PassengerId</th>\n",
              "      <th>Pclass</th>\n",
              "      <th>Survived</th>\n",
              "    </tr>\n",
              "    <tr>\n",
              "      <th>SibSp</th>\n",
              "      <th></th>\n",
              "      <th></th>\n",
              "      <th></th>\n",
              "      <th></th>\n",
              "      <th></th>\n",
              "      <th></th>\n",
              "    </tr>\n",
              "  </thead>\n",
              "  <tbody>\n",
              "    <tr>\n",
              "      <th>0</th>\n",
              "      <td>31.014851</td>\n",
              "      <td>25.692028</td>\n",
              "      <td>0.185855</td>\n",
              "      <td>455.370066</td>\n",
              "      <td>2.351974</td>\n",
              "      <td>0.345395</td>\n",
              "    </tr>\n",
              "    <tr>\n",
              "      <th>1</th>\n",
              "      <td>30.041134</td>\n",
              "      <td>44.147370</td>\n",
              "      <td>0.655502</td>\n",
              "      <td>439.727273</td>\n",
              "      <td>2.057416</td>\n",
              "      <td>0.535885</td>\n",
              "    </tr>\n",
              "    <tr>\n",
              "      <th>2</th>\n",
              "      <td>23.378477</td>\n",
              "      <td>51.753718</td>\n",
              "      <td>0.642857</td>\n",
              "      <td>412.428571</td>\n",
              "      <td>2.357143</td>\n",
              "      <td>0.464286</td>\n",
              "    </tr>\n",
              "    <tr>\n",
              "      <th>3</th>\n",
              "      <td>17.862279</td>\n",
              "      <td>68.908862</td>\n",
              "      <td>1.312500</td>\n",
              "      <td>321.562500</td>\n",
              "      <td>2.562500</td>\n",
              "      <td>0.250000</td>\n",
              "    </tr>\n",
              "    <tr>\n",
              "      <th>4</th>\n",
              "      <td>7.055556</td>\n",
              "      <td>31.855556</td>\n",
              "      <td>1.500000</td>\n",
              "      <td>381.611111</td>\n",
              "      <td>3.000000</td>\n",
              "      <td>0.166667</td>\n",
              "    </tr>\n",
              "    <tr>\n",
              "      <th>5</th>\n",
              "      <td>10.200000</td>\n",
              "      <td>46.900000</td>\n",
              "      <td>2.000000</td>\n",
              "      <td>336.800000</td>\n",
              "      <td>3.000000</td>\n",
              "      <td>0.000000</td>\n",
              "    </tr>\n",
              "    <tr>\n",
              "      <th>8</th>\n",
              "      <td>29.699118</td>\n",
              "      <td>69.550000</td>\n",
              "      <td>2.000000</td>\n",
              "      <td>481.714286</td>\n",
              "      <td>3.000000</td>\n",
              "      <td>0.000000</td>\n",
              "    </tr>\n",
              "  </tbody>\n",
              "</table>\n",
              "</div>"
            ],
            "text/plain": [
              "             Age       Fare     Parch  PassengerId    Pclass  Survived\n",
              "SibSp                                                                 \n",
              "0      31.014851  25.692028  0.185855   455.370066  2.351974  0.345395\n",
              "1      30.041134  44.147370  0.655502   439.727273  2.057416  0.535885\n",
              "2      23.378477  51.753718  0.642857   412.428571  2.357143  0.464286\n",
              "3      17.862279  68.908862  1.312500   321.562500  2.562500  0.250000\n",
              "4       7.055556  31.855556  1.500000   381.611111  3.000000  0.166667\n",
              "5      10.200000  46.900000  2.000000   336.800000  3.000000  0.000000\n",
              "8      29.699118  69.550000  2.000000   481.714286  3.000000  0.000000"
            ]
          },
          "metadata": {
            "tags": []
          },
          "execution_count": 23
        }
      ]
    },
    {
      "cell_type": "code",
      "metadata": {
        "colab": {
          "base_uri": "https://localhost:8080/",
          "height": 302
        },
        "id": "U2AsnIOJaUXD",
        "outputId": "ebc811e6-f023-4b8d-f244-a6aa1a140eb5"
      },
      "source": [
        "#Visualization for SibSp\n",
        "sns.barplot(x = \"SibSp\", y=\"Survived\", palette = \"Blues_d\", data=titanic)\n"
      ],
      "execution_count": null,
      "outputs": [
        {
          "output_type": "execute_result",
          "data": {
            "text/plain": [
              "<matplotlib.axes._subplots.AxesSubplot at 0x7f1869ad9150>"
            ]
          },
          "metadata": {
            "tags": []
          },
          "execution_count": 24
        },
        {
          "output_type": "display_data",
          "data": {
            "image/png": "[encoded data removed]",
            "text/plain": [
              "<Figure size 432x288 with 1 Axes>"
            ]
          },
          "metadata": {
            "tags": []
          }
        }
      ]
    },
    {
      "cell_type": "code",
      "metadata": {
        "colab": {
          "base_uri": "https://localhost:8080/",
          "height": 297
        },
        "id": "vP3XgGInaVuG",
        "outputId": "3ed6eb01-0c5b-42a3-e72f-096ed9d11da7"
      },
      "source": [
        "#Survival rate for Parch\n",
        "pd.pivot_table(titanic, index=[\"Parch\"])\n"
      ],
      "execution_count": null,
      "outputs": [
        {
          "output_type": "execute_result",
          "data": {
            "text/html": [
              "<div>\n",
              "<style scoped>\n",
              "    .dataframe tbody tr th:only-of-type {\n",
              "        vertical-align: middle;\n",
              "    }\n",
              "\n",
              "    .dataframe tbody tr th {\n",
              "        vertical-align: top;\n",
              "    }\n",
              "\n",
              "    .dataframe thead th {\n",
              "        text-align: right;\n",
              "    }\n",
              "</style>\n",
              "<table border=\"1\" class=\"dataframe\">\n",
              "  <thead>\n",
              "    <tr style=\"text-align: right;\">\n",
              "      <th></th>\n",
              "      <th>Age</th>\n",
              "      <th>Fare</th>\n",
              "      <th>PassengerId</th>\n",
              "      <th>Pclass</th>\n",
              "      <th>SibSp</th>\n",
              "      <th>Survived</th>\n",
              "    </tr>\n",
              "    <tr>\n",
              "      <th>Parch</th>\n",
              "      <th></th>\n",
              "      <th></th>\n",
              "      <th></th>\n",
              "      <th></th>\n",
              "      <th></th>\n",
              "      <th></th>\n",
              "    </tr>\n",
              "  </thead>\n",
              "  <tbody>\n",
              "    <tr>\n",
              "      <th>0</th>\n",
              "      <td>31.604368</td>\n",
              "      <td>25.586774</td>\n",
              "      <td>445.255162</td>\n",
              "      <td>2.321534</td>\n",
              "      <td>0.237463</td>\n",
              "      <td>0.343658</td>\n",
              "    </tr>\n",
              "    <tr>\n",
              "      <th>1</th>\n",
              "      <td>24.779771</td>\n",
              "      <td>46.778180</td>\n",
              "      <td>465.110169</td>\n",
              "      <td>2.203390</td>\n",
              "      <td>1.084746</td>\n",
              "      <td>0.550847</td>\n",
              "    </tr>\n",
              "    <tr>\n",
              "      <th>2</th>\n",
              "      <td>19.089243</td>\n",
              "      <td>64.337604</td>\n",
              "      <td>416.662500</td>\n",
              "      <td>2.275000</td>\n",
              "      <td>2.062500</td>\n",
              "      <td>0.500000</td>\n",
              "    </tr>\n",
              "    <tr>\n",
              "      <th>3</th>\n",
              "      <td>33.200000</td>\n",
              "      <td>25.951660</td>\n",
              "      <td>579.200000</td>\n",
              "      <td>2.600000</td>\n",
              "      <td>1.000000</td>\n",
              "      <td>0.600000</td>\n",
              "    </tr>\n",
              "    <tr>\n",
              "      <th>4</th>\n",
              "      <td>44.500000</td>\n",
              "      <td>84.968750</td>\n",
              "      <td>384.000000</td>\n",
              "      <td>2.500000</td>\n",
              "      <td>0.750000</td>\n",
              "      <td>0.000000</td>\n",
              "    </tr>\n",
              "    <tr>\n",
              "      <th>5</th>\n",
              "      <td>39.200000</td>\n",
              "      <td>32.550000</td>\n",
              "      <td>435.200000</td>\n",
              "      <td>3.000000</td>\n",
              "      <td>0.600000</td>\n",
              "      <td>0.200000</td>\n",
              "    </tr>\n",
              "    <tr>\n",
              "      <th>6</th>\n",
              "      <td>43.000000</td>\n",
              "      <td>46.900000</td>\n",
              "      <td>679.000000</td>\n",
              "      <td>3.000000</td>\n",
              "      <td>1.000000</td>\n",
              "      <td>0.000000</td>\n",
              "    </tr>\n",
              "  </tbody>\n",
              "</table>\n",
              "</div>"
            ],
            "text/plain": [
              "             Age       Fare  PassengerId    Pclass     SibSp  Survived\n",
              "Parch                                                                 \n",
              "0      31.604368  25.586774   445.255162  2.321534  0.237463  0.343658\n",
              "1      24.779771  46.778180   465.110169  2.203390  1.084746  0.550847\n",
              "2      19.089243  64.337604   416.662500  2.275000  2.062500  0.500000\n",
              "3      33.200000  25.951660   579.200000  2.600000  1.000000  0.600000\n",
              "4      44.500000  84.968750   384.000000  2.500000  0.750000  0.000000\n",
              "5      39.200000  32.550000   435.200000  3.000000  0.600000  0.200000\n",
              "6      43.000000  46.900000   679.000000  3.000000  1.000000  0.000000"
            ]
          },
          "metadata": {
            "tags": []
          },
          "execution_count": 25
        }
      ]
    },
    {
      "cell_type": "code",
      "metadata": {
        "colab": {
          "base_uri": "https://localhost:8080/",
          "height": 302
        },
        "id": "6vPKAnPkamCc",
        "outputId": "27914410-81b1-4dbb-9524-a4d693b98758"
      },
      "source": [
        "#Visualization for Parch\n",
        "sns.barplot(x = \"Parch\", y=\"Survived\", palette = \"Blues_d\", data=titanic)"
      ],
      "execution_count": null,
      "outputs": [
        {
          "output_type": "execute_result",
          "data": {
            "text/plain": [
              "<matplotlib.axes._subplots.AxesSubplot at 0x7f1869ae14d0>"
            ]
          },
          "metadata": {
            "tags": []
          },
          "execution_count": 26
        },
        {
          "output_type": "display_data",
          "data": {
            "image/png": "[encoded data removed]",
            "text/plain": [
              "<Figure size 432x288 with 1 Axes>"
            ]
          },
          "metadata": {
            "tags": []
          }
        }
      ]
    },
    {
      "cell_type": "markdown",
      "metadata": {
        "id": "WwOkr4k1M8co"
      },
      "source": [
        "### **Question 8: Find the correlations.**\n",
        "Find the correlations between the feature and the target variable _Survived_ and use heatmap to visualize it. Summarize your findings."
      ]
    },
    {
      "cell_type": "code",
      "metadata": {
        "id": "WyANNhL6M8co",
        "colab": {
          "base_uri": "https://localhost:8080/",
          "height": 723
        },
        "outputId": "e84794c4-fb24-4a34-a326-109973acb603"
      },
      "source": [
        "# TODO\n",
        "plt.figure(figsize=(12, 6))\n",
        "corr = titanic[['Pclass', 'Sex', 'Age', 'SibSp',\n",
        "       'Parch', 'Ticket', 'Fare', 'Cabin',\n",
        "       'Embarked', 'Survived']].apply(lambda x: pd.factorize(x)[0]).corr()\n",
        "display(corr)\n",
        "ax = sns.heatmap(corr, xticklabels=corr.columns, yticklabels=corr.columns, linewidths=.2, cmap=\"YlGnBu\")\n",
        "\n",
        "#Just by looking at the Survived column of correlations Sex, Pclass, Cabin, and Fare \n",
        "#had the most effect on survival rate. Things such as age may have more of a correlation \n",
        "#with survival rate if we do age by intervals of 10 or 20, rather than increment by 1 year. "
      ],
      "execution_count": null,
      "outputs": [
        {
          "output_type": "display_data",
          "data": {
            "text/html": [
              "<div>\n",
              "<style scoped>\n",
              "    .dataframe tbody tr th:only-of-type {\n",
              "        vertical-align: middle;\n",
              "    }\n",
              "\n",
              "    .dataframe tbody tr th {\n",
              "        vertical-align: top;\n",
              "    }\n",
              "\n",
              "    .dataframe thead th {\n",
              "        text-align: right;\n",
              "    }\n",
              "</style>\n",
              "<table border=\"1\" class=\"dataframe\">\n",
              "  <thead>\n",
              "    <tr style=\"text-align: right;\">\n",
              "      <th></th>\n",
              "      <th>Pclass</th>\n",
              "      <th>Sex</th>\n",
              "      <th>Age</th>\n",
              "      <th>SibSp</th>\n",
              "      <th>Parch</th>\n",
              "      <th>Ticket</th>\n",
              "      <th>Fare</th>\n",
              "      <th>Cabin</th>\n",
              "      <th>Embarked</th>\n",
              "      <th>Survived</th>\n",
              "    </tr>\n",
              "  </thead>\n",
              "  <tbody>\n",
              "    <tr>\n",
              "      <th>Pclass</th>\n",
              "      <td>1.000000</td>\n",
              "      <td>0.118133</td>\n",
              "      <td>0.171190</td>\n",
              "      <td>-0.149630</td>\n",
              "      <td>-0.000343</td>\n",
              "      <td>0.020431</td>\n",
              "      <td>0.079498</td>\n",
              "      <td>0.187437</td>\n",
              "      <td>-0.168091</td>\n",
              "      <td>0.247845</td>\n",
              "    </tr>\n",
              "    <tr>\n",
              "      <th>Sex</th>\n",
              "      <td>0.118133</td>\n",
              "      <td>1.000000</td>\n",
              "      <td>0.005005</td>\n",
              "      <td>-0.046152</td>\n",
              "      <td>0.242417</td>\n",
              "      <td>-0.132709</td>\n",
              "      <td>0.137725</td>\n",
              "      <td>0.082104</td>\n",
              "      <td>0.116569</td>\n",
              "      <td>0.543351</td>\n",
              "    </tr>\n",
              "    <tr>\n",
              "      <th>Age</th>\n",
              "      <td>0.171190</td>\n",
              "      <td>0.005005</td>\n",
              "      <td>1.000000</td>\n",
              "      <td>0.010067</td>\n",
              "      <td>0.132659</td>\n",
              "      <td>0.074814</td>\n",
              "      <td>0.117313</td>\n",
              "      <td>0.163002</td>\n",
              "      <td>-0.133308</td>\n",
              "      <td>0.037025</td>\n",
              "    </tr>\n",
              "    <tr>\n",
              "      <th>SibSp</th>\n",
              "      <td>-0.149630</td>\n",
              "      <td>-0.046152</td>\n",
              "      <td>0.010067</td>\n",
              "      <td>1.000000</td>\n",
              "      <td>0.165255</td>\n",
              "      <td>-0.122426</td>\n",
              "      <td>-0.046556</td>\n",
              "      <td>-0.108709</td>\n",
              "      <td>-0.030683</td>\n",
              "      <td>-0.136302</td>\n",
              "    </tr>\n",
              "    <tr>\n",
              "      <th>Parch</th>\n",
              "      <td>-0.000343</td>\n",
              "      <td>0.242417</td>\n",
              "      <td>0.132659</td>\n",
              "      <td>0.165255</td>\n",
              "      <td>1.000000</td>\n",
              "      <td>-0.262607</td>\n",
              "      <td>0.074306</td>\n",
              "      <td>-0.002761</td>\n",
              "      <td>-0.085059</td>\n",
              "      <td>0.086210</td>\n",
              "    </tr>\n",
              "    <tr>\n",
              "      <th>Ticket</th>\n",
              "      <td>0.020431</td>\n",
              "      <td>-0.132709</td>\n",
              "      <td>0.074814</td>\n",
              "      <td>-0.122426</td>\n",
              "      <td>-0.262607</td>\n",
              "      <td>1.000000</td>\n",
              "      <td>0.303257</td>\n",
              "      <td>0.212438</td>\n",
              "      <td>-0.024655</td>\n",
              "      <td>-0.047298</td>\n",
              "    </tr>\n",
              "    <tr>\n",
              "      <th>Fare</th>\n",
              "      <td>0.079498</td>\n",
              "      <td>0.137725</td>\n",
              "      <td>0.117313</td>\n",
              "      <td>-0.046556</td>\n",
              "      <td>0.074306</td>\n",
              "      <td>0.303257</td>\n",
              "      <td>1.000000</td>\n",
              "      <td>0.379659</td>\n",
              "      <td>0.076726</td>\n",
              "      <td>0.191981</td>\n",
              "    </tr>\n",
              "    <tr>\n",
              "      <th>Cabin</th>\n",
              "      <td>0.187437</td>\n",
              "      <td>0.082104</td>\n",
              "      <td>0.163002</td>\n",
              "      <td>-0.108709</td>\n",
              "      <td>-0.002761</td>\n",
              "      <td>0.212438</td>\n",
              "      <td>0.379659</td>\n",
              "      <td>1.000000</td>\n",
              "      <td>0.017685</td>\n",
              "      <td>0.270495</td>\n",
              "    </tr>\n",
              "    <tr>\n",
              "      <th>Embarked</th>\n",
              "      <td>-0.168091</td>\n",
              "      <td>0.116569</td>\n",
              "      <td>-0.133308</td>\n",
              "      <td>-0.030683</td>\n",
              "      <td>-0.085059</td>\n",
              "      <td>-0.024655</td>\n",
              "      <td>0.076726</td>\n",
              "      <td>0.017685</td>\n",
              "      <td>1.000000</td>\n",
              "      <td>0.106811</td>\n",
              "    </tr>\n",
              "    <tr>\n",
              "      <th>Survived</th>\n",
              "      <td>0.247845</td>\n",
              "      <td>0.543351</td>\n",
              "      <td>0.037025</td>\n",
              "      <td>-0.136302</td>\n",
              "      <td>0.086210</td>\n",
              "      <td>-0.047298</td>\n",
              "      <td>0.191981</td>\n",
              "      <td>0.270495</td>\n",
              "      <td>0.106811</td>\n",
              "      <td>1.000000</td>\n",
              "    </tr>\n",
              "  </tbody>\n",
              "</table>\n",
              "</div>"
            ],
            "text/plain": [
              "            Pclass       Sex       Age  ...     Cabin  Embarked  Survived\n",
              "Pclass    1.000000  0.118133  0.171190  ...  0.187437 -0.168091  0.247845\n",
              "Sex       0.118133  1.000000  0.005005  ...  0.082104  0.116569  0.543351\n",
              "Age       0.171190  0.005005  1.000000  ...  0.163002 -0.133308  0.037025\n",
              "SibSp    -0.149630 -0.046152  0.010067  ... -0.108709 -0.030683 -0.136302\n",
              "Parch    -0.000343  0.242417  0.132659  ... -0.002761 -0.085059  0.086210\n",
              "Ticket    0.020431 -0.132709  0.074814  ...  0.212438 -0.024655 -0.047298\n",
              "Fare      0.079498  0.137725  0.117313  ...  0.379659  0.076726  0.191981\n",
              "Cabin     0.187437  0.082104  0.163002  ...  1.000000  0.017685  0.270495\n",
              "Embarked -0.168091  0.116569 -0.133308  ...  0.017685  1.000000  0.106811\n",
              "Survived  0.247845  0.543351  0.037025  ...  0.270495  0.106811  1.000000\n",
              "\n",
              "[10 rows x 10 columns]"
            ]
          },
          "metadata": {
            "tags": []
          }
        },
        {
          "output_type": "display_data",
          "data": {
            "image/png": "[encoded data removed]",
            "text/plain": [
              "<Figure size 864x432 with 2 Axes>"
            ]
          },
          "metadata": {
            "tags": []
          }
        }
      ]
    },
    {
      "cell_type": "markdown",
      "metadata": {
        "id": "VPA-huNqM8cr"
      },
      "source": [
        "### **Question 9: Any other insights do you draw by analyzing the data? Summarize the findings as well as provide the code leading you to the findings.**"
      ]
    },
    {
      "cell_type": "code",
      "metadata": {
        "id": "RbUR4eVqM8cr",
        "colab": {
          "base_uri": "https://localhost:8080/",
          "height": 611
        },
        "outputId": "21ba138e-f029-46fb-bd6a-639dc89be83a"
      },
      "source": [
        "# TODO\n",
        "fig = plt.gcf()\n",
        "fig.set_size_inches(15, 10)\n",
        "ax = sns.scatterplot(x='Age', y='Fare', hue='Survived', style='Survived', alpha=0.5, data=titanic)\n",
        "\n",
        "#At the lower fares (less than 100), the only people who had a good chance of surviving \n",
        "#were people who were younger than 10 years old. After a fare of above 200, most people had a\n",
        "#good chance at surviving, regardless of age. "
      ],
      "execution_count": null,
      "outputs": [
        {
          "output_type": "display_data",
          "data": {
            "image/png": "[encoded data removed]",
            "text/plain": [
              "<Figure size 1080x720 with 1 Axes>"
            ]
          },
          "metadata": {
            "tags": []
          }
        }
      ]
    },
    {
      "cell_type": "markdown",
      "metadata": {
        "id": "WN7aJgCAM8ct"
      },
      "source": [
        "### **Bonus Point: Build a ML model to predict survival.**\n",
        "Can you build a logistic regression model to predict the probability of survival for all the passengers in this [file](https://raw.githubusercontent.com/zariable/data/master/titanic_test.csv)? You can evaluate your model accuracy on [Kaggle](https://www.kaggle.com/c/titanic). Can you think of any other ways to improve the model performance? Implement your idea to see if it actually works. "
      ]
    },
    {
      "cell_type": "code",
      "metadata": {
        "id": "dJ7Cdt2PM8cu",
        "colab": {
          "base_uri": "https://localhost:8080/"
        },
        "outputId": "217a1ba4-2d35-49ac-ab24-a6cd0f4aa4e5"
      },
      "source": [
        "# TODO\n",
        "# logistic regression\n",
        "from sklearn.linear_model import LogisticRegression\n",
        "from sklearn.metrics import accuracy_score\n",
        "\n",
        "\n",
        "train_data = pd.read_csv('https://raw.githubusercontent.com/zariable/data/master/titanic_train.csv')\n",
        "train_x = titanic.loc[:,[ 'Pclass' ,'Age','SibSp','Parch' ,'Fare'  ]]\n",
        "train_y = titanic.loc[:,'Survived']\n",
        "\n",
        "# model initialization\n",
        "logistic_regression_model = LogisticRegression()\n",
        "\n",
        "# train the model\n",
        "logistic_regression_model.fit(train_x, train_y)\n",
        "\n",
        "# print model parameters\n",
        "print('Slope: {}'.format(logistic_regression_model.coef_))\n",
        "print('Intercept: {}'.format(logistic_regression_model.intercept_))\n",
        "\n",
        "#  TODO: use the RL model and make predictions on the training data as well as the test data\n",
        "\n",
        "train_z = logistic_regression_model.predict(train_x)\n",
        "\n",
        "print(\"model accuracy on train set: {}\".format(accuracy_score(train_y, train_z)))\n",
        "\n",
        "test_data = pd.read_csv('https://raw.githubusercontent.com/zariable/data/master/titanic_test.csv')\n",
        "test_data['Age'] = test_data['Age'].replace(np.nan, 29.699118)\n",
        "test_data['Pclass'] = test_data['Pclass'].replace(np.nan, 2)\n",
        "test_data['SibSp'] = test_data['SibSp'].replace(np.nan, 0)\n",
        "test_data['Parch'] = test_data['Parch'].replace(np.nan, 0)\n",
        "test_data['Fare'] = test_data['Fare'].replace(np.nan, 0)\n",
        "x_test = test_data.loc[:,[ 'Pclass' ,'Age','SibSp','Parch' ,'Fare']]\n",
        "\n",
        "\n",
        "predictions = logistic_regression_model.predict(x_test)\n",
        "pred_id = test_data.loc[:,['PassengerId']]\n",
        "pred_id['Survived'] = predictions\n",
        "pred_id\n",
        "pred_id.to_csv(\"submission.csv\", index=False)\n",
        "\n",
        "#scored as 0.67224 on kaggle \n",
        "# Gender is a good predictor to use, but I do not know how to make it into \n",
        "# a binary variable instead of male and female. I believe using gender in \n",
        "# the model will improve its accuracy. \n",
        " \n"
      ],
      "execution_count": null,
      "outputs": [
        {
          "output_type": "stream",
          "text": [
            "Slope: [[-0.92077356 -0.03803372 -0.23719669  0.21345782  0.00476993]]\n",
            "Intercept: [2.62043936]\n",
            "model accuracy on train set: 0.7048260381593715\n"
          ],
          "name": "stdout"
        }
      ]
    },
    {
      "cell_type": "code",
      "metadata": {
        "colab": {
          "base_uri": "https://localhost:8080/"
        },
        "id": "SI13LvFz20Lq",
        "outputId": "9e1728ea-873a-4a29-95e0-fd65f78c3031"
      },
      "source": [
        "#Attempt 2 - using gender as a predictor\n",
        "\n",
        "train_data = pd.read_csv('https://raw.githubusercontent.com/zariable/data/master/titanic_train.csv')\n",
        "titanic.Sex[titanic.Sex == 'male'] = 1\n",
        "titanic.Sex[titanic.Sex == 'female'] = 0\n",
        "train_x = titanic.loc[:,['Sex','Pclass' ,'Age','SibSp','Parch' ,'Fare'  ]]\n",
        "train_y = titanic.loc[:,'Survived']\n",
        "\n",
        "# model initialization\n",
        "logistic_regression_model = LogisticRegression()\n",
        "\n",
        "# train the model\n",
        "logistic_regression_model.fit(train_x, train_y)\n",
        "\n",
        "# print model parameters\n",
        "print('Slope: {}'.format(logistic_regression_model.coef_))\n",
        "print('Intercept: {}'.format(logistic_regression_model.intercept_))\n",
        "\n",
        "#  TODO: use the RL model and make predictions on the training data as well as the test data\n",
        "\n",
        "train_z = logistic_regression_model.predict(train_x)\n",
        "\n",
        "print(\"model accuracy on train set: {}\".format(accuracy_score(train_y, train_z)))\n",
        "\n",
        "test_data = pd.read_csv('https://raw.githubusercontent.com/zariable/data/master/titanic_test.csv')\n",
        "test_data['Age'] = test_data['Age'].replace(np.nan, 29.699118)\n",
        "test_data['Pclass'] = test_data['Pclass'].replace(np.nan, 2)\n",
        "test_data['SibSp'] = test_data['SibSp'].replace(np.nan, 0)\n",
        "test_data['Parch'] = test_data['Parch'].replace(np.nan, 0)\n",
        "test_data['Fare'] = test_data['Fare'].replace(np.nan, 0)\n",
        "test_data.Sex[test_data.Sex == 'male'] = 1\n",
        "test_data.Sex[test_data.Sex == 'female'] = 0\n",
        "x_test = test_data.loc[:,['Sex', 'Pclass' ,'Age','SibSp','Parch' ,'Fare']]\n",
        "\n",
        "\n",
        "predictions = logistic_regression_model.predict(x_test)\n",
        "pred_id = test_data.loc[:,['PassengerId']]\n",
        "pred_id['Survived'] = predictions\n",
        "pred_id\n",
        "pred_id.to_csv(\"submission2.csv\", index=False)\n",
        "\n",
        "#This time around I get a score of 0.75598 on Kaggle. I am sure with enough trial and error\n",
        "#I could achieve a score of 1.000. "
      ],
      "execution_count": null,
      "outputs": [
        {
          "output_type": "stream",
          "text": [
            "/usr/local/lib/python3.7/dist-packages/ipykernel_launcher.py:3: SettingWithCopyWarning: \n",
            "A value is trying to be set on a copy of a slice from a DataFrame\n",
            "\n",
            "See the caveats in the documentation: https://pandas.pydata.org/pandas-docs/stable/user_guide/indexing.html#returning-a-view-versus-a-copy\n",
            "  This is separate from the ipykernel package so we can avoid doing imports until\n",
            "/usr/local/lib/python3.7/dist-packages/ipykernel_launcher.py:4: SettingWithCopyWarning: \n",
            "A value is trying to be set on a copy of a slice from a DataFrame\n",
            "\n",
            "See the caveats in the documentation: https://pandas.pydata.org/pandas-docs/stable/user_guide/indexing.html#returning-a-view-versus-a-copy\n",
            "  after removing the cwd from sys.path.\n",
            "/usr/local/lib/python3.7/dist-packages/ipykernel_launcher.py:30: SettingWithCopyWarning: \n",
            "A value is trying to be set on a copy of a slice from a DataFrame\n",
            "\n",
            "See the caveats in the documentation: https://pandas.pydata.org/pandas-docs/stable/user_guide/indexing.html#returning-a-view-versus-a-copy\n",
            "/usr/local/lib/python3.7/dist-packages/ipykernel_launcher.py:31: SettingWithCopyWarning: \n",
            "A value is trying to be set on a copy of a slice from a DataFrame\n",
            "\n",
            "See the caveats in the documentation: https://pandas.pydata.org/pandas-docs/stable/user_guide/indexing.html#returning-a-view-versus-a-copy\n"
          ],
          "name": "stderr"
        },
        {
          "output_type": "stream",
          "text": [
            "Slope: [[-2.65206    -1.04837472 -0.03880413 -0.33869236 -0.10099617  0.00301815]]\n",
            "Intercept: [4.77202075]\n",
            "model accuracy on train set: 0.797979797979798\n"
          ],
          "name": "stdout"
        }
      ]
    }
  ]
}